{
  "cells": [
    {
      "cell_type": "markdown",
      "source": [
        "- 강의 Lession 14: 역전파\n",
        "- 강의 영상: https://youtu.be/veqj0DsZSXU?si=K0r5kIp2apJCVUSb&t=5318 <br>\n",
        "1:28:38 지점 부터\n",
        "- 코랩 사본 url: https://colab.research.google.com/github/cafrii/fastai_course22p2/blob/master/nbs/06_foundations.ipynb\n",
        "- review history\n",
        " - 2025.5.20\n",
        "-"
      ],
      "metadata": {
        "id": "SI3F5plRPhUx"
      }
    },
    {
      "cell_type": "code",
      "execution_count": null,
      "metadata": {
        "id": "NAluM1qFPeM1"
      },
      "outputs": [],
      "source": [
        "import torch\n",
        "import matplotlib.pyplot as plt\n",
        "import random"
      ]
    },
    {
      "cell_type": "markdown",
      "metadata": {
        "id": "hwZOysXTPeM2"
      },
      "source": [
        "## Callbacks"
      ]
    },
    {
      "cell_type": "markdown",
      "metadata": {
        "id": "hKUJctbKPeM2"
      },
      "source": [
        "### Callbacks as GUI events"
      ]
    },
    {
      "cell_type": "code",
      "execution_count": null,
      "metadata": {
        "id": "VhbQh2BzPeM2"
      },
      "outputs": [],
      "source": [
        "import ipywidgets as widgets"
      ]
    },
    {
      "cell_type": "markdown",
      "metadata": {
        "id": "IiE2Qol2PeM2"
      },
      "source": [
        "From the [ipywidget docs](https://ipywidgets.readthedocs.io/en/stable/examples/Widget%20Events.html):\n",
        "\n",
        "- *the button widget is used to handle mouse clicks. The on_click method of the Button can be used to register function to be called when the button is clicked*"
      ]
    },
    {
      "cell_type": "code",
      "execution_count": null,
      "metadata": {
        "id": "h7JRuYBkPeM2"
      },
      "outputs": [],
      "source": [
        "w = widgets.Button(description='Click me')"
      ]
    },
    {
      "cell_type": "code",
      "execution_count": null,
      "metadata": {
        "id": "XHpXNiVEPeM2",
        "outputId": "09a00dc4-c516-4e1e-fb8f-7f3c469aaf68",
        "colab": {
          "referenced_widgets": [
            "2a8b2631c38d4f0fa35aeea61c9211ba"
          ]
        }
      },
      "outputs": [
        {
          "data": {
            "application/vnd.jupyter.widget-view+json": {
              "model_id": "2a8b2631c38d4f0fa35aeea61c9211ba",
              "version_major": 2,
              "version_minor": 0
            },
            "text/plain": [
              "Button(description='Click me', style=ButtonStyle())"
            ]
          },
          "metadata": {},
          "output_type": "display_data"
        }
      ],
      "source": [
        "w"
      ]
    },
    {
      "cell_type": "code",
      "execution_count": null,
      "metadata": {
        "id": "BhJ5ejeQPeM3"
      },
      "outputs": [],
      "source": [
        "def f(o): print('hi')"
      ]
    },
    {
      "cell_type": "code",
      "execution_count": null,
      "metadata": {
        "id": "WWeil390PeM3"
      },
      "outputs": [],
      "source": [
        "w.on_click(f)"
      ]
    },
    {
      "cell_type": "markdown",
      "metadata": {
        "id": "Xcu_31cuPeM3"
      },
      "source": [
        "*NB: When callbacks are used in this way they are often called \"events\".*"
      ]
    },
    {
      "cell_type": "markdown",
      "metadata": {
        "id": "LrirzUccPeM3"
      },
      "source": [
        "### Creating your own callback"
      ]
    },
    {
      "cell_type": "code",
      "execution_count": null,
      "metadata": {
        "id": "6C1tXBYfPeM3"
      },
      "outputs": [],
      "source": [
        "from time import sleep"
      ]
    },
    {
      "cell_type": "code",
      "execution_count": null,
      "metadata": {
        "id": "hfyOlJ14PeM3"
      },
      "outputs": [],
      "source": [
        "def slow_calculation():\n",
        "    res = 0\n",
        "    for i in range(5):\n",
        "        res += i*i\n",
        "        sleep(1)\n",
        "    return res"
      ]
    },
    {
      "cell_type": "code",
      "execution_count": null,
      "metadata": {
        "id": "dLpkVo01PeM3",
        "outputId": "5a3e9b84-bcc6-4d82-e16c-8a598e03554e"
      },
      "outputs": [
        {
          "data": {
            "text/plain": [
              "30"
            ]
          },
          "execution_count": null,
          "metadata": {},
          "output_type": "execute_result"
        }
      ],
      "source": [
        "slow_calculation()"
      ]
    },
    {
      "cell_type": "code",
      "execution_count": null,
      "metadata": {
        "id": "sumHl-FYPeM3"
      },
      "outputs": [],
      "source": [
        "def slow_calculation(cb=None):\n",
        "    res = 0\n",
        "    for i in range(5):\n",
        "        res += i*i\n",
        "        sleep(1)\n",
        "        if cb: cb(i)\n",
        "    return res"
      ]
    },
    {
      "cell_type": "code",
      "execution_count": null,
      "metadata": {
        "id": "XqSw_qoHPeM3"
      },
      "outputs": [],
      "source": [
        "def show_progress(epoch): print(f\"Awesome! We've finished epoch {epoch}!\")"
      ]
    },
    {
      "cell_type": "code",
      "execution_count": null,
      "metadata": {
        "id": "CyhipL6-PeM3",
        "outputId": "35e35f10-1b4b-4e6d-834f-6ae66fc08ebb"
      },
      "outputs": [
        {
          "name": "stdout",
          "output_type": "stream",
          "text": [
            "Awesome! We've finished epoch 0!\n",
            "Awesome! We've finished epoch 1!\n",
            "Awesome! We've finished epoch 2!\n",
            "Awesome! We've finished epoch 3!\n",
            "Awesome! We've finished epoch 4!\n"
          ]
        },
        {
          "data": {
            "text/plain": [
              "30"
            ]
          },
          "execution_count": null,
          "metadata": {},
          "output_type": "execute_result"
        }
      ],
      "source": [
        "slow_calculation(show_progress)"
      ]
    },
    {
      "cell_type": "markdown",
      "metadata": {
        "id": "LmlUiYDvPeM3"
      },
      "source": [
        "### Lambdas and partials"
      ]
    },
    {
      "cell_type": "code",
      "execution_count": null,
      "metadata": {
        "id": "xHGzh27bPeM3",
        "outputId": "cc77be6c-bbce-424b-dae6-79202cf25321"
      },
      "outputs": [
        {
          "name": "stdout",
          "output_type": "stream",
          "text": [
            "Awesome! We've finished epoch 0!\n",
            "Awesome! We've finished epoch 1!\n",
            "Awesome! We've finished epoch 2!\n",
            "Awesome! We've finished epoch 3!\n",
            "Awesome! We've finished epoch 4!\n"
          ]
        },
        {
          "data": {
            "text/plain": [
              "30"
            ]
          },
          "execution_count": null,
          "metadata": {},
          "output_type": "execute_result"
        }
      ],
      "source": [
        "slow_calculation(lambda o: print(f\"Awesome! We've finished epoch {o}!\"))"
      ]
    },
    {
      "cell_type": "code",
      "execution_count": null,
      "metadata": {
        "id": "cGCLoYzaPeM3"
      },
      "outputs": [],
      "source": [
        "def show_progress(exclamation, epoch): print(f\"{exclamation}! We've finished epoch {epoch}!\")"
      ]
    },
    {
      "cell_type": "code",
      "execution_count": null,
      "metadata": {
        "id": "Bdoez7uJPeM3",
        "outputId": "7f61992b-f5f9-4e6c-d9fe-a9aee5c1ef26"
      },
      "outputs": [
        {
          "name": "stdout",
          "output_type": "stream",
          "text": [
            "OK I guess! We've finished epoch 0!\n",
            "OK I guess! We've finished epoch 1!\n",
            "OK I guess! We've finished epoch 2!\n",
            "OK I guess! We've finished epoch 3!\n",
            "OK I guess! We've finished epoch 4!\n"
          ]
        },
        {
          "data": {
            "text/plain": [
              "30"
            ]
          },
          "execution_count": null,
          "metadata": {},
          "output_type": "execute_result"
        }
      ],
      "source": [
        "slow_calculation(lambda o: show_progress(\"OK I guess\", o))"
      ]
    },
    {
      "cell_type": "code",
      "execution_count": null,
      "metadata": {
        "id": "seIrdNdZPeM4"
      },
      "outputs": [],
      "source": [
        "def make_show_progress(exclamation):\n",
        "    def _inner(epoch): print(f\"{exclamation}! We've finished epoch {epoch}!\")\n",
        "    return _inner"
      ]
    },
    {
      "cell_type": "code",
      "execution_count": null,
      "metadata": {
        "id": "KZWlQDDoPeM4",
        "outputId": "73579b72-adae-4977-8423-9bab7fe29d21"
      },
      "outputs": [
        {
          "name": "stdout",
          "output_type": "stream",
          "text": [
            "Nice!! We've finished epoch 0!\n",
            "Nice!! We've finished epoch 1!\n",
            "Nice!! We've finished epoch 2!\n",
            "Nice!! We've finished epoch 3!\n",
            "Nice!! We've finished epoch 4!\n"
          ]
        },
        {
          "data": {
            "text/plain": [
              "30"
            ]
          },
          "execution_count": null,
          "metadata": {},
          "output_type": "execute_result"
        }
      ],
      "source": [
        "slow_calculation(make_show_progress(\"Nice!\"))"
      ]
    },
    {
      "cell_type": "code",
      "execution_count": null,
      "metadata": {
        "id": "MIRDqQwGPeM4"
      },
      "outputs": [],
      "source": [
        "from functools import partial"
      ]
    },
    {
      "cell_type": "code",
      "execution_count": null,
      "metadata": {
        "id": "HTwKB2exPeM4",
        "outputId": "91f1ce9d-2156-4e84-8bb8-a6c398091c02"
      },
      "outputs": [
        {
          "name": "stdout",
          "output_type": "stream",
          "text": [
            "OK I guess! We've finished epoch 0!\n",
            "OK I guess! We've finished epoch 1!\n",
            "OK I guess! We've finished epoch 2!\n",
            "OK I guess! We've finished epoch 3!\n",
            "OK I guess! We've finished epoch 4!\n"
          ]
        },
        {
          "data": {
            "text/plain": [
              "30"
            ]
          },
          "execution_count": null,
          "metadata": {},
          "output_type": "execute_result"
        }
      ],
      "source": [
        "slow_calculation(partial(show_progress, \"OK I guess\"))"
      ]
    },
    {
      "cell_type": "code",
      "execution_count": null,
      "metadata": {
        "id": "8xvzqXeZPeM4"
      },
      "outputs": [],
      "source": [
        "f2 = partial(show_progress, \"OK I guess\")"
      ]
    },
    {
      "cell_type": "markdown",
      "metadata": {
        "id": "WhLIO3VYPeM4"
      },
      "source": [
        "### Callbacks as callable classes"
      ]
    },
    {
      "cell_type": "code",
      "execution_count": null,
      "metadata": {
        "id": "6iHGPkjrPeM4"
      },
      "outputs": [],
      "source": [
        "class ProgressShowingCallback():\n",
        "    def __init__(self, exclamation=\"Awesome\"): self.exclamation = exclamation\n",
        "    def __call__(self, epoch): print(f\"{self.exclamation}! We've finished epoch {epoch}!\")"
      ]
    },
    {
      "cell_type": "code",
      "execution_count": null,
      "metadata": {
        "id": "IY7T9CN6PeM4"
      },
      "outputs": [],
      "source": [
        "cb = ProgressShowingCallback(\"Just super\")"
      ]
    },
    {
      "cell_type": "code",
      "execution_count": null,
      "metadata": {
        "id": "OmlIhMoUPeM4",
        "outputId": "7784b715-8456-4dd6-9772-4835acac86f4"
      },
      "outputs": [
        {
          "name": "stdout",
          "output_type": "stream",
          "text": [
            "Just super! We've finished epoch 0!\n",
            "Just super! We've finished epoch 1!\n",
            "Just super! We've finished epoch 2!\n",
            "Just super! We've finished epoch 3!\n",
            "Just super! We've finished epoch 4!\n"
          ]
        },
        {
          "data": {
            "text/plain": [
              "30"
            ]
          },
          "execution_count": null,
          "metadata": {},
          "output_type": "execute_result"
        }
      ],
      "source": [
        "slow_calculation(cb)"
      ]
    },
    {
      "cell_type": "markdown",
      "metadata": {
        "id": "xAUqETnRPeM4"
      },
      "source": [
        "### Multiple callback funcs; `*args` and `**kwargs`"
      ]
    },
    {
      "cell_type": "code",
      "execution_count": null,
      "metadata": {
        "id": "0URvLp34PeM4"
      },
      "outputs": [],
      "source": [
        "def f(*a, **b): print(f\"args: {a}; kwargs: {b}\")"
      ]
    },
    {
      "cell_type": "code",
      "execution_count": null,
      "metadata": {
        "id": "h5D8vc0ePeM4",
        "outputId": "fe06f657-b74c-42a5-ebcb-555f867b784d"
      },
      "outputs": [
        {
          "name": "stdout",
          "output_type": "stream",
          "text": [
            "args: (3, 'a'); kwargs: {'thing1': 'hello'}\n"
          ]
        }
      ],
      "source": [
        "f(3, 'a', thing1=\"hello\")"
      ]
    },
    {
      "cell_type": "code",
      "execution_count": null,
      "metadata": {
        "id": "kTm_WG_rPeM4"
      },
      "outputs": [],
      "source": [
        "def g(a,b,c=0): print(a,b,c)"
      ]
    },
    {
      "cell_type": "code",
      "execution_count": null,
      "metadata": {
        "id": "xKQZ9CP8PeM4",
        "outputId": "1560f78a-6c9d-4cff-8666-4b62eec87c11"
      },
      "outputs": [
        {
          "name": "stdout",
          "output_type": "stream",
          "text": [
            "1 2 3\n"
          ]
        }
      ],
      "source": [
        "args = [1,2]\n",
        "kwargs = {'c':3}\n",
        "g(*args, **kwargs)"
      ]
    },
    {
      "cell_type": "code",
      "execution_count": null,
      "metadata": {
        "id": "FuqlHL-7PeM4"
      },
      "outputs": [],
      "source": [
        "def slow_calculation(cb=None):\n",
        "    res = 0\n",
        "    for i in range(5):\n",
        "        if cb: cb.before_calc(i)\n",
        "        res += i*i\n",
        "        sleep(1)\n",
        "        if cb: cb.after_calc(i, val=res)\n",
        "    return res"
      ]
    },
    {
      "cell_type": "code",
      "execution_count": null,
      "metadata": {
        "id": "GuFDynQ0PeM4"
      },
      "outputs": [],
      "source": [
        "class PrintStepCallback():\n",
        "    def before_calc(self, *args, **kwargs): print(f\"About to start\")\n",
        "    def after_calc (self, *args, **kwargs): print(f\"Done step\")"
      ]
    },
    {
      "cell_type": "code",
      "execution_count": null,
      "metadata": {
        "id": "CP4idKP1PeM4",
        "outputId": "5a88a6f5-7c1f-4542-8179-68920a1a0a45"
      },
      "outputs": [
        {
          "name": "stdout",
          "output_type": "stream",
          "text": [
            "About to start\n",
            "Done step\n",
            "About to start\n",
            "Done step\n",
            "About to start\n",
            "Done step\n",
            "About to start\n",
            "Done step\n",
            "About to start\n",
            "Done step\n"
          ]
        },
        {
          "data": {
            "text/plain": [
              "30"
            ]
          },
          "execution_count": null,
          "metadata": {},
          "output_type": "execute_result"
        }
      ],
      "source": [
        "slow_calculation(PrintStepCallback())"
      ]
    },
    {
      "cell_type": "code",
      "execution_count": null,
      "metadata": {
        "id": "E-3hmdFOPeM4"
      },
      "outputs": [],
      "source": [
        "class PrintStatusCallback():\n",
        "    def __init__(self): pass\n",
        "    def before_calc(self, epoch, **kwargs): print(f\"About to start: {epoch}\")\n",
        "    def after_calc (self, epoch, val, **kwargs): print(f\"After {epoch}: {val}\")"
      ]
    },
    {
      "cell_type": "code",
      "execution_count": null,
      "metadata": {
        "id": "AGLNxPv1PeNA",
        "outputId": "4862604c-5641-40d8-de18-45fe23cbc8b7"
      },
      "outputs": [
        {
          "name": "stdout",
          "output_type": "stream",
          "text": [
            "About to start: 0\n",
            "After 0: 0\n",
            "About to start: 1\n",
            "After 1: 1\n",
            "About to start: 2\n",
            "After 2: 5\n",
            "About to start: 3\n",
            "After 3: 14\n",
            "About to start: 4\n",
            "After 4: 30\n"
          ]
        },
        {
          "data": {
            "text/plain": [
              "30"
            ]
          },
          "execution_count": null,
          "metadata": {},
          "output_type": "execute_result"
        }
      ],
      "source": [
        "slow_calculation(PrintStatusCallback())"
      ]
    },
    {
      "cell_type": "markdown",
      "metadata": {
        "id": "LVQNrtNQPeNA"
      },
      "source": [
        "### Modifying behavior"
      ]
    },
    {
      "cell_type": "code",
      "execution_count": null,
      "metadata": {
        "id": "ExGprgVAPeNA"
      },
      "outputs": [],
      "source": [
        "def slow_calculation(cb=None):\n",
        "    res = 0\n",
        "    for i in range(5):\n",
        "        if cb and hasattr(cb,'before_calc'): cb.before_calc(i)\n",
        "        res += i*i\n",
        "        sleep(1)\n",
        "        if cb and hasattr(cb,'after_calc'):\n",
        "            if cb.after_calc(i, res):\n",
        "                print(\"stopping early\")\n",
        "                break\n",
        "    return res"
      ]
    },
    {
      "cell_type": "code",
      "execution_count": null,
      "metadata": {
        "id": "p6O6ViNkPeNA"
      },
      "outputs": [],
      "source": [
        "class PrintAfterCallback():\n",
        "    def after_calc (self, epoch, val):\n",
        "        print(f\"After {epoch}: {val}\")\n",
        "        if val>10: return True"
      ]
    },
    {
      "cell_type": "code",
      "execution_count": null,
      "metadata": {
        "id": "PP5asyoUPeNA",
        "outputId": "947e0aa7-7c51-4bc3-de50-d8ddafc9f10b"
      },
      "outputs": [
        {
          "name": "stdout",
          "output_type": "stream",
          "text": [
            "After 0: 0\n",
            "After 1: 1\n",
            "After 2: 5\n",
            "After 3: 14\n",
            "stopping early\n"
          ]
        },
        {
          "data": {
            "text/plain": [
              "14"
            ]
          },
          "execution_count": null,
          "metadata": {},
          "output_type": "execute_result"
        }
      ],
      "source": [
        "slow_calculation(PrintAfterCallback())"
      ]
    },
    {
      "cell_type": "code",
      "execution_count": null,
      "metadata": {
        "id": "-EacyjEIPeNA"
      },
      "outputs": [],
      "source": [
        "class SlowCalculator():\n",
        "    def __init__(self, cb=None): self.cb,self.res = cb,0\n",
        "\n",
        "    def callback(self, cb_name, *args):\n",
        "        if not self.cb: return\n",
        "        cb = getattr(self.cb,cb_name, None)\n",
        "        if cb: return cb(self, *args)\n",
        "\n",
        "    def calc(self):\n",
        "        for i in range(5):\n",
        "            self.callback('before_calc', i)\n",
        "            self.res += i*i\n",
        "            sleep(1)\n",
        "            if self.callback('after_calc', i):\n",
        "                print(\"stopping early\")\n",
        "                break"
      ]
    },
    {
      "cell_type": "code",
      "execution_count": null,
      "metadata": {
        "id": "eXHB-U05PeNA"
      },
      "outputs": [],
      "source": [
        "class ModifyingCallback():\n",
        "    def after_calc (self, calc, epoch):\n",
        "        print(f\"After {epoch}: {calc.res}\")\n",
        "        if calc.res>10: return True\n",
        "        if calc.res<3: calc.res = calc.res*2"
      ]
    },
    {
      "cell_type": "code",
      "execution_count": null,
      "metadata": {
        "id": "8kAKPH99PeNA"
      },
      "outputs": [],
      "source": [
        "calculator = SlowCalculator(ModifyingCallback())"
      ]
    },
    {
      "cell_type": "code",
      "execution_count": null,
      "metadata": {
        "id": "Sf_h4YK-PeNA",
        "outputId": "10819c06-08b1-4aa4-ee95-73e31a509a7f"
      },
      "outputs": [
        {
          "name": "stdout",
          "output_type": "stream",
          "text": [
            "After 0: 0\n",
            "After 1: 1\n",
            "After 2: 6\n",
            "After 3: 15\n",
            "stopping early\n"
          ]
        },
        {
          "data": {
            "text/plain": [
              "15"
            ]
          },
          "execution_count": null,
          "metadata": {},
          "output_type": "execute_result"
        }
      ],
      "source": [
        "calculator.calc()\n",
        "calculator.res"
      ]
    },
    {
      "cell_type": "markdown",
      "metadata": {
        "id": "6VfuBa4bPeNA"
      },
      "source": [
        "## `__dunder__` thingies"
      ]
    },
    {
      "cell_type": "markdown",
      "metadata": {
        "id": "AY1YRQNnPeNA"
      },
      "source": [
        "Anything that looks like `__this__` is, in some way, *special*. Python, or some library, can define some functions that they will call at certain documented times. For instance, when your class is setting up a new object, python will call `__init__`. These are defined as part of the python [data model](https://docs.python.org/3/reference/datamodel.html#object.__init__).\n",
        "\n",
        "For instance, if python sees `+`, then it will call the special method `__add__`. If you try to display an object in Jupyter (or lots of other places in Python) it will call `__repr__`."
      ]
    },
    {
      "cell_type": "code",
      "execution_count": null,
      "metadata": {
        "id": "5pZozrBbPeNA"
      },
      "outputs": [],
      "source": [
        "class SloppyAdder():\n",
        "    def __init__(self,o): self.o=o\n",
        "    def __add__(self,b): return SloppyAdder(self.o + b.o + 0.01)\n",
        "    def __repr__(self): return str(self.o)"
      ]
    },
    {
      "cell_type": "code",
      "execution_count": null,
      "metadata": {
        "id": "hr_OnFkKPeNA",
        "outputId": "6f9084ed-ab9a-45e7-c185-a81dc672bb4b"
      },
      "outputs": [
        {
          "data": {
            "text/plain": [
              "3.01"
            ]
          },
          "execution_count": null,
          "metadata": {},
          "output_type": "execute_result"
        }
      ],
      "source": [
        "a = SloppyAdder(1)\n",
        "b = SloppyAdder(2)\n",
        "a+b"
      ]
    },
    {
      "cell_type": "markdown",
      "metadata": {
        "id": "4faNAzm0PeNA"
      },
      "source": [
        "Special methods you should probably know about (see data model link above) are:\n",
        "\n",
        "- `__getitem__`\n",
        "- `__getattr__`\n",
        "- `__setattr__`\n",
        "- `__del__`\n",
        "- `__init__`\n",
        "- `__new__`\n",
        "- `__enter__`\n",
        "- `__exit__`\n",
        "- `__len__`\n",
        "- `__repr__`\n",
        "- `__str__`"
      ]
    },
    {
      "cell_type": "markdown",
      "metadata": {
        "id": "E6xlHjySPeNA"
      },
      "source": [
        "### `__getattr__` and `getattr`"
      ]
    },
    {
      "cell_type": "code",
      "execution_count": null,
      "metadata": {
        "id": "6GWs8rFCPeNA"
      },
      "outputs": [],
      "source": [
        "class A: a,b=1,2"
      ]
    },
    {
      "cell_type": "code",
      "execution_count": null,
      "metadata": {
        "id": "_Sb8oCiuPeNA"
      },
      "outputs": [],
      "source": [
        "a = A()"
      ]
    },
    {
      "cell_type": "code",
      "execution_count": null,
      "metadata": {
        "id": "oPsmL3nrPeNB",
        "outputId": "9ec9747d-8131-412b-aeb4-ad276fc51173"
      },
      "outputs": [
        {
          "data": {
            "text/plain": [
              "2"
            ]
          },
          "execution_count": null,
          "metadata": {},
          "output_type": "execute_result"
        }
      ],
      "source": [
        "a.b"
      ]
    },
    {
      "cell_type": "code",
      "execution_count": null,
      "metadata": {
        "id": "xhqjPxNtPeNB",
        "outputId": "44f0ae64-91fb-4779-eba3-eefe14db19ef"
      },
      "outputs": [
        {
          "data": {
            "text/plain": [
              "2"
            ]
          },
          "execution_count": null,
          "metadata": {},
          "output_type": "execute_result"
        }
      ],
      "source": [
        "getattr(a, 'b')"
      ]
    },
    {
      "cell_type": "code",
      "execution_count": null,
      "metadata": {
        "id": "6NfWNsg1PeNB",
        "outputId": "ebcb7e86-392e-44cd-a94b-245ea72eb5e4"
      },
      "outputs": [
        {
          "data": {
            "text/plain": [
              "2"
            ]
          },
          "execution_count": null,
          "metadata": {},
          "output_type": "execute_result"
        }
      ],
      "source": [
        "getattr(a, 'b' if random.random()>0.5 else 'a')"
      ]
    },
    {
      "cell_type": "code",
      "execution_count": null,
      "metadata": {
        "id": "6AYd2OVjPeNB"
      },
      "outputs": [],
      "source": [
        "# __getattr__ 는 아직 정의되지 않은 속성에 접근하는 경우에만 호출된다!\n",
        "\n",
        "class B:\n",
        "    a,b=1,2\n",
        "    def __getattr__(self, k):\n",
        "        if k[0]=='_': raise AttributeError(k)\n",
        "        return f'Hello from {k}'"
      ]
    },
    {
      "cell_type": "code",
      "execution_count": null,
      "metadata": {
        "id": "egpDNuPWPeNB"
      },
      "outputs": [],
      "source": [
        "b = B()"
      ]
    },
    {
      "cell_type": "code",
      "execution_count": null,
      "metadata": {
        "id": "RHzqqhaiPeNB",
        "outputId": "900e2331-7838-42de-b47a-65b6b7c5c0b0"
      },
      "outputs": [
        {
          "data": {
            "text/plain": [
              "1"
            ]
          },
          "execution_count": null,
          "metadata": {},
          "output_type": "execute_result"
        }
      ],
      "source": [
        "b.a"
      ]
    },
    {
      "cell_type": "code",
      "execution_count": null,
      "metadata": {
        "id": "BcL4hSwcPeNB",
        "outputId": "b71fbf63-b457-4277-a1a0-acbf55ed4def"
      },
      "outputs": [
        {
          "data": {
            "text/plain": [
              "'Hello from foo'"
            ]
          },
          "execution_count": null,
          "metadata": {},
          "output_type": "execute_result"
        }
      ],
      "source": [
        "b.foo"
      ]
    },
    {
      "cell_type": "code",
      "execution_count": null,
      "metadata": {
        "id": "giJ941YJPeNB"
      },
      "outputs": [],
      "source": []
    }
  ],
  "metadata": {
    "kernelspec": {
      "display_name": "Python 3 (ipykernel)",
      "language": "python",
      "name": "python3"
    },
    "colab": {
      "provenance": [],
      "toc_visible": true
    }
  },
  "nbformat": 4,
  "nbformat_minor": 0
}